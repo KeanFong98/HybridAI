{
 "cells": [
  {
   "cell_type": "code",
   "execution_count": 1,
   "metadata": {},
   "outputs": [],
   "source": [
    "import numpy as np # we imported numpy package as np so we will call it np in the future\n",
    "import matplotlib.pyplot as plt # we import matplotlib.pyplot as plt\n",
    "from statistics import mean"
   ]
  },
  {
   "cell_type": "code",
   "execution_count": 2,
   "metadata": {},
   "outputs": [
    {
     "name": "stdout",
     "output_type": "stream",
     "text": [
      "[[0. 0.]\n",
      " [0. 0.]\n",
      " [0. 0.]\n",
      " [0. 0.]\n",
      " [0. 0.]]\n"
     ]
    }
   ],
   "source": [
    "num_States = 5 # we have 5 states in our state space\n",
    "num_Actions = 2 # we have 2 actions in our action space\n",
    "\n",
    "q_Table = np.zeros((num_States, num_Actions)) # we define Q-Table with all zeros in it\n",
    "print(q_Table) # we print our first tiny Q-Table"
   ]
  },
  {
   "cell_type": "code",
   "execution_count": 3,
   "metadata": {},
   "outputs": [],
   "source": [
    "envInfo = [[(0,0), (0,1), (0,2), (0,3), (1,1), (1,3), (2,0), (2,1), (2,2), (2,3), (3,1), (3,3), (4,1)], \n",
    "           [(1,0), (1,2), (1,4), (2,4), (3,0), (3,2), (4,0), (4,2), (4,3), (4,4)]]\n",
    "# envInfo[0] => safe path list\n",
    "# envInfo[1] => cliffs list"
   ]
  },
  {
   "cell_type": "code",
   "execution_count": 4,
   "metadata": {},
   "outputs": [],
   "source": [
    "class GridWorldEnvironment:\n",
    "    def __init__(self, info):\n",
    "        \n",
    "        self.safePath = info[0] # contains tuples\n",
    "        self.cliffs = info[1] # contains tuples\n",
    "        self.startLoc = self.safePath[0] # safe path list's 0th element is start state\n",
    "        self.trmLoc = self.safePath[11] # safe path list's 9th element is finish state\n",
    "        self.rewSttTrm = (None, None, None) # (int, int, bool)\n",
    "    \n",
    "    def getSttNo(self, loc):\n",
    "        \"\"\"\n",
    "        The method that converts current location to a state number. \n",
    "        Returns state number.\n",
    "        \"\"\"\n",
    "        return 4*loc[0]+loc[1]\n",
    "    \n",
    "    def envStart(self):\n",
    "\n",
    "        \"\"\"The method called when the episode starts, it resets the environment.\n",
    "\n",
    "        Returns:\n",
    "        state number.\n",
    "        \"\"\"\n",
    "        reward = 0\n",
    "        # agentLoc is the current location of the agent\n",
    "        self.agentLoc = self.startLoc\n",
    "        # state is state number as an int\n",
    "        state = self.getSttNo(self.agentLoc)\n",
    "        termination = False\n",
    "        self.rewSttTrm = (reward, state, termination)\n",
    "\n",
    "        return self.rewSttTrm[1]\n",
    "    \n",
    "    def envStep(self, action):\n",
    "        \"\"\"The method called with every step taken in the environment and updates the environment.\n",
    "\n",
    "        Args:\n",
    "            action: The action taken by the agent\n",
    "\n",
    "        Returns:\n",
    "            (int, int, bool): a tuple of the reward, state,\n",
    "                and boolean shows that if it's terminal.\n",
    "        \"\"\"\n",
    "        \n",
    "        if action == 0: # up         \n",
    "            possibleNextLoc = (self.agentLoc[0] - 1, self.agentLoc[1])\n",
    "            if possibleNextLoc[0] >= 0: # check the agent within grid?\n",
    "                self.agentLoc = possibleNextLoc # if within grid, current location is possible location\n",
    "            else:\n",
    "                self.agentLoc = (1,0) # go to a cliff\n",
    "        elif action == 1: # left\n",
    "            possibleNextLoc = (self.agentLoc[0], self.agentLoc[1] - 1)\n",
    "            if possibleNextLoc[1] >= 0: # check the agent within grid?\n",
    "                self.agentLoc = possibleNextLoc # if within grid, current location is possible location\n",
    "            else:\n",
    "                self.agentLoc = (1,0) # go to a cliff\n",
    "        elif action == 2: # down\n",
    "            possibleNextLoc = (self.agentLoc[0] + 1, self.agentLoc[1])\n",
    "            if possibleNextLoc[0] < 4: # check the agent within grid?\n",
    "                self.agentLoc = possibleNextLoc # if within grid, current location is possible location\n",
    "            else:\n",
    "                self.agentLoc = (1,0) # go to a cliff\n",
    "        elif action == 3: # right\n",
    "            possibleNextLoc = (self.agentLoc[0], self.agentLoc[1] + 1)\n",
    "            if possibleNextLoc[1] < 4: # check the agent within grid?\n",
    "                self.agentLoc = possibleNextLoc # if within grid, current location is possible location\n",
    "            else:\n",
    "                self.agentLoc = (1,0) # go to a cliff\n",
    "\n",
    "        reward = -1 # initiate reward as -1,agent gets a -1 reward for its every step in safe path,so it does not stuck\n",
    "        terminal = False # holds the termination information\n",
    "        \n",
    "        if self.agentLoc == self.trmLoc: # check the terminal is reached?\n",
    "            reward = 100 # give 100 reward if it terminates the episode\n",
    "            terminal = True # bool of termination is true\n",
    "        elif self.agentLoc in self.cliffs: # check fell into cliffs?\n",
    "            reward = -100 # give -100 reward if it falls into the cliffs\n",
    "            terminal = False # bool of termination is true\n",
    "            self.agentLoc = self.startLoc # agent is sent to start state\n",
    "        else:\n",
    "            reward = -1 # default value\n",
    "            terminal = False # default value\n",
    "        \n",
    "        self.rewSttTrm = (reward, self.getSttNo(self.agentLoc), terminal) # update rewSttTrm\n",
    "\n",
    "        return self.rewSttTrm"
   ]
  },
  {
   "cell_type": "code",
   "execution_count": 5,
   "metadata": {},
   "outputs": [],
   "source": [
    "agentInfo = [4, 25, 0.01, 1, 1, 0] ###numActions, numStates, epsilon, learningRate, discount, random seed"
   ]
  },
  {
   "cell_type": "code",
   "execution_count": 6,
   "metadata": {},
   "outputs": [],
   "source": [
    "class QLearningAgent:\n",
    "\n",
    "    def __init__(self, info):\n",
    "        \n",
    "        self.numActions = info[0]\n",
    "        self.numStates = info[1]\n",
    "        self.epsilon = info[2]\n",
    "        self.learningRate = info[3]\n",
    "        self.discount = info[4]\n",
    "        self.randGenerator = np.random.RandomState(info[5])\n",
    "\n",
    "        self.qTable = np.zeros((self.numStates, self.numActions)) # The array of action-value estimates.\n",
    "\n",
    "    def agentStart(self, state):\n",
    "        \n",
    "        \"\"\"The method called when the episode starts, it resets the environment.\n",
    "        \n",
    "        Args:\n",
    "            state (int): the state from the\n",
    "                environment's evnStart function.\n",
    "        Returns:\n",
    "            action (int): the first action the agent takes.\n",
    "        \"\"\"\n",
    "        \n",
    "        # Choose action using epsilon greedy.\n",
    "        currentQ = self.qTable[state,:] # corresponding row of qTable\n",
    "        if self.randGenerator.rand() < self.epsilon: # random number generation\n",
    "            action = self.randGenerator.randint(self.numActions) # take an action randomly\n",
    "        else:\n",
    "            action = self.argmax(currentQ) # take an action greedily, the max valued action in currentQ\n",
    "        self.prevState = state # the trick of TDL\n",
    "        self.prevAction = action # the trick of TDL\n",
    "        return action\n",
    "\n",
    "    def agentStep(self, reward, state):\n",
    "        \"\"\"A step taken by the agent.\n",
    "        Args:\n",
    "            reward (float): the reward received for taking the last action taken\n",
    "            state (int): the state from the\n",
    "                environment's step based on where the agent ended up after the\n",
    "                last step.\n",
    "        Returns:\n",
    "            action (int): the action the agent takes.\n",
    "        \"\"\"\n",
    "        \n",
    "        # Choose action using epsilon greedy.\n",
    "        currentQ = self.qTable[state, :] # corresponding row of qTable\n",
    "        if self.randGenerator.rand() < self.epsilon:  # random number generation\n",
    "            action = self.randGenerator.randint(self.numActions) # take an action randomly\n",
    "        else:\n",
    "            action = self.argmax(currentQ) # take an action greedily, the max valued action in currentQ\n",
    "        \n",
    "        self.qTable[self.prevState,self.prevAction] = self.qTable[self.prevState,self.prevAction] + self.learningRate*(reward + self.discount*max(currentQ) - self.qTable[self.prevState,self.prevAction]) # update qTable\n",
    "        \n",
    "        self.prevState = state # the trick of TDL\n",
    "        self.prevAction = action # the trick of TDL\n",
    "        return action\n",
    "\n",
    "\n",
    "    def agentEnd(self, reward):\n",
    "        \"\"\"Run when the agent terminates.\n",
    "        Args:\n",
    "            reward (float): the reward the agent received for entering the\n",
    "                terminal state.\n",
    "        \"\"\"\n",
    "        \n",
    "        self.qTable[self.prevState,self.prevAction] = self.qTable[self.prevState,self.prevAction] + self.learningRate*(reward - self.qTable[self.prevState,self.prevAction])\n",
    "\n",
    "    def argmax(self, qValues):\n",
    "        \"\"\"argmax with random tie-breaking\n",
    "        Args:\n",
    "            qValues (Numpy array): the array of action-values\n",
    "        Returns:\n",
    "            action (int): an action with the highest value\n",
    "        \"\"\"\n",
    "        top = float(\"-inf\") # top as negative infinity\n",
    "        ties = [] # initiate ties\n",
    "\n",
    "        for i in range(len(qValues)):\n",
    "            if qValues[i] > top: # element is greater than top\n",
    "                top = qValues[i] # the element is the new top\n",
    "                ties = [] # ties resets\n",
    "\n",
    "            if qValues[i] == top: # if an element is equal to top\n",
    "                ties.append(i) # we add its index to ties\n",
    "\n",
    "        return self.randGenerator.choice(ties) # return one of ties randomly\n",
    "    \n",
    "    def agentTest(self, state):\n",
    "        \n",
    "        # Choose action greedily by exploiting qTable\n",
    "        currentQ = self.qTable[state,:]\n",
    "        \n",
    "        action = self.argmax(currentQ)\n",
    "        \n",
    "        return action"
   ]
  },
  {
   "cell_type": "code",
   "execution_count": 7,
   "metadata": {},
   "outputs": [],
   "source": [
    "env = GridWorldEnvironment(envInfo) # instance of environment\n",
    "agent = QLearningAgent(agentInfo) # instance of agent\n",
    "returns = [] # a list that we will append return of every episode\n",
    "currentReturn = 0 # return of the current episode, we will increment it by rewards"
   ]
  },
  {
   "cell_type": "code",
   "execution_count": 8,
   "metadata": {},
   "outputs": [
    {
     "name": "stdout",
     "output_type": "stream",
     "text": [
      "Iteration Number: 0\n",
      "Reward: 100\n",
      "Agent is terminated!\n",
      "Do you accept the result? (Yes or No)\n",
      "n\n",
      "Please enter new value of reward: \n",
      "New value: -2\n",
      "New Reward: 98\n",
      "Iteration Number: 1\n",
      "Reward: 100\n",
      "Agent is terminated!\n",
      "Do you accept the result? (Yes or No)\n",
      "n\n",
      "Please enter new value of reward: \n",
      "New value: -1\n",
      "New Reward: 99\n",
      "Iteration Number: 2\n",
      "Reward: 100\n",
      "Agent is terminated!\n",
      "Do you accept the result? (Yes or No)\n",
      "n\n",
      "Please enter new value of reward: \n",
      "New value: -3\n",
      "New Reward: 97\n",
      "Iteration Number: 3\n",
      "Reward: 100\n",
      "Agent is terminated!\n",
      "Do you accept the result? (Yes or No)\n",
      "n\n",
      "Please enter new value of reward: \n",
      "New value: -2\n",
      "New Reward: 98\n",
      "Iteration Number: 4\n",
      "Reward: 100\n",
      "Agent is terminated!\n",
      "Do you accept the result? (Yes or No)\n",
      "n\n",
      "Please enter new value of reward: \n",
      "New value: -1\n",
      "New Reward: 99\n",
      "Iteration Number: 5\n",
      "Reward: 100\n",
      "Agent is terminated!\n",
      "Do you accept the result? (Yes or No)\n",
      "n\n",
      "Please enter new value of reward: \n",
      "New value: -3\n",
      "New Reward: 97\n",
      "Iteration Number: 6\n",
      "Reward: 100\n",
      "Agent is terminated!\n",
      "Do you accept the result? (Yes or No)\n",
      "n\n",
      "Please enter new value of reward: \n",
      "New value: -4\n",
      "New Reward: 96\n",
      "Iteration Number: 7\n",
      "Reward: 100\n",
      "Agent is terminated!\n",
      "Do you accept the result? (Yes or No)\n",
      "n\n",
      "Please enter new value of reward: \n",
      "New value: -3\n",
      "New Reward: 97\n",
      "Iteration Number: 8\n",
      "Reward: 100\n",
      "Agent is terminated!\n",
      "Do you accept the result? (Yes or No)\n",
      "n\n",
      "Please enter new value of reward: \n",
      "New value: -2\n",
      "New Reward: 98\n",
      "Iteration Number: 9\n",
      "Reward: 100\n",
      "Agent is terminated!\n",
      "Do you accept the result? (Yes or No)\n",
      "n\n",
      "Please enter new value of reward: \n",
      "New value: -3\n",
      "New Reward: 97\n",
      "Iteration Number: 10\n",
      "Reward: 100\n",
      "Agent is terminated!\n",
      "Do you accept the result? (Yes or No)\n",
      "n\n",
      "Please enter new value of reward: \n",
      "New value: -4\n",
      "New Reward: 96\n",
      "Iteration Number: 11\n",
      "Reward: 100\n",
      "Agent is terminated!\n",
      "Do you accept the result? (Yes or No)\n",
      "n\n",
      "Please enter new value of reward: \n",
      "New value: -1\n",
      "New Reward: 99\n",
      "Iteration Number: 12\n",
      "Reward: 100\n",
      "Agent is terminated!\n",
      "Do you accept the result? (Yes or No)\n",
      "n\n",
      "Please enter new value of reward: \n",
      "New value: -2\n",
      "New Reward: 98\n",
      "Iteration Number: 13\n",
      "Reward: 100\n",
      "Agent is terminated!\n",
      "Do you accept the result? (Yes or No)\n",
      "n\n",
      "Please enter new value of reward: \n",
      "New value: -1\n",
      "New Reward: 99\n",
      "Iteration Number: 14\n",
      "Reward: 100\n",
      "Agent is terminated!\n",
      "Do you accept the result? (Yes or No)\n",
      "n\n",
      "Please enter new value of reward: \n",
      "New value: -3\n",
      "New Reward: 97\n",
      "Iteration Number: 15\n",
      "Reward: 100\n",
      "Agent is terminated!\n",
      "Do you accept the result? (Yes or No)\n",
      "n\n",
      "Please enter new value of reward: \n",
      "New value: -2\n",
      "New Reward: 98\n",
      "Iteration Number: 16\n",
      "Reward: 100\n",
      "Agent is terminated!\n",
      "Do you accept the result? (Yes or No)\n",
      "n\n",
      "Please enter new value of reward: \n",
      "New value: -1\n",
      "New Reward: 99\n",
      "Iteration Number: 17\n",
      "Reward: 100\n",
      "Agent is terminated!\n",
      "Do you accept the result? (Yes or No)\n",
      "y\n",
      "Reward: 100\n",
      "Agent is terminated!\n",
      "Iteration Number: 18\n",
      "Reward: 100\n",
      "Agent is terminated!\n",
      "Do you accept the result? (Yes or No)\n",
      "y\n",
      "Reward: 100\n",
      "Agent is terminated!\n",
      "Iteration Number: 19\n",
      "Reward: 100\n",
      "Agent is terminated!\n",
      "Do you accept the result? (Yes or No)\n",
      "y\n",
      "Reward: 100\n",
      "Agent is terminated!\n",
      "Iteration Number: 20\n",
      "Reward: 100\n",
      "Agent is terminated!\n",
      "Do you accept the result? (Yes or No)\n",
      "y\n",
      "Reward: 100\n",
      "Agent is terminated!\n",
      "Iteration Number: 21\n",
      "Reward: 100\n",
      "Agent is terminated!\n",
      "Do you accept the result? (Yes or No)\n",
      "y\n",
      "Reward: 100\n",
      "Agent is terminated!\n",
      "Iteration Number: 22\n",
      "Reward: 100\n",
      "Agent is terminated!\n",
      "Do you accept the result? (Yes or No)\n",
      "n\n",
      "Please enter new value of reward: \n",
      "New value: -3\n",
      "New Reward: 97\n",
      "Iteration Number: 23\n",
      "Reward: 100\n",
      "Agent is terminated!\n",
      "Do you accept the result? (Yes or No)\n",
      "n\n",
      "Please enter new value of reward: \n",
      "New value: -1\n",
      "New Reward: 99\n",
      "Iteration Number: 24\n",
      "Reward: 100\n",
      "Agent is terminated!\n",
      "Do you accept the result? (Yes or No)\n",
      "y\n",
      "Reward: 100\n",
      "Agent is terminated!\n",
      "Iteration Number: 25\n",
      "Reward: 100\n",
      "Agent is terminated!\n",
      "Do you accept the result? (Yes or No)\n",
      "y\n",
      "Reward: 100\n",
      "Agent is terminated!\n",
      "Iteration Number: 26\n",
      "Reward: 100\n",
      "Agent is terminated!\n",
      "Do you accept the result? (Yes or No)\n",
      "y\n",
      "Reward: 100\n",
      "Agent is terminated!\n",
      "Iteration Number: 27\n",
      "Reward: 100\n",
      "Agent is terminated!\n",
      "Do you accept the result? (Yes or No)\n",
      "y\n",
      "Reward: 100\n",
      "Agent is terminated!\n",
      "Iteration Number: 28\n",
      "Reward: 100\n",
      "Agent is terminated!\n",
      "Do you accept the result? (Yes or No)\n",
      "y\n",
      "Reward: 100\n",
      "Agent is terminated!\n",
      "Iteration Number: 29\n",
      "Reward: 100\n",
      "Agent is terminated!\n",
      "Do you accept the result? (Yes or No)\n",
      "y\n",
      "Reward: 100\n",
      "Agent is terminated!\n"
     ]
    }
   ],
   "source": [
    "for i in range(30):\n",
    "    print(\"Iteration Number: \" + str(i))\n",
    "    currentReturn = 0\n",
    "    reward = 0\n",
    "    stt = env.envStart() \n",
    "    act = agent.agentStart(stt) # choose action\n",
    "    rew, stt, trm = env.envStep(act)\n",
    "    currentReturn += rew\n",
    "    while(True):\n",
    "        act = agent.agentStep(rew, stt) # update q table and choose action\n",
    "        rew, stt, trm = env.envStep(act)\n",
    "        currentReturn += rew\n",
    "        if trm: # agent is terminated\n",
    "            agent.agentEnd(rew) # make a final update to q table\n",
    "            print(\"Reward: \" + str(rew))\n",
    "            print(\"Agent is terminated!\")\n",
    "            ####ask user input for accept the result or not\n",
    "            answer = input(\"Do you accept the result? (Yes or No)\\n\")\n",
    "            #if yes, the iteration will continue;iF no,the user can input the value to change\n",
    "            if any(answer.lower() == f for f in [\"no\", \"No\", \"NO\", \"n\",\"N\"]):\n",
    "                #Get new reward\n",
    "                print(\"Please enter new value of reward: \" )#+ str(currentReturn))\n",
    "                reward = int(input(\"New value: \"))\n",
    "                #print the new reward value\n",
    "                currentReturn = rew + reward\n",
    "                print(\"New Reward: \" + str(currentReturn))\n",
    "                returns.append(currentReturn) # save the return of the episode\n",
    "                break\n",
    "            else:\n",
    "                print(\"Reward: \" + str(rew))\n",
    "                print(\"Agent is terminated!\")\n",
    "            returns.append(currentReturn) # save the return of the episode\n",
    "            break"
   ]
  },
  {
   "cell_type": "code",
   "execution_count": 9,
   "metadata": {
    "scrolled": true
   },
   "outputs": [
    {
     "name": "stdout",
     "output_type": "stream",
     "text": [
      "[[-100. -100. -101.   95.]\n",
      " [-101.   -5.   96.   -4.]\n",
      " [-102.   -4. -102.   -3.]\n",
      " [-103.   -4.   -2. -103.]\n",
      " [   0.    0.    0.    0.]\n",
      " [  -3. -101.   97. -102.]\n",
      " [   0.    0.    0.    0.]\n",
      " [  -2. -102.   99. -103.]\n",
      " [-103. -103.    0.    0.]\n",
      " [  -1.   -1.   -1.   98.]\n",
      " [   0.    0. -103.   99.]\n",
      " [  -1.    0.  100. -103.]\n",
      " [   0.    0.    0.    0.]\n",
      " [   0. -102. -104.    0.]\n",
      " [   0.    0.    0.    0.]\n",
      " [   0.    0.    0.    0.]\n",
      " [   0.    0.    0.    0.]\n",
      " [   0.    0.    0.    0.]\n",
      " [   0.    0.    0.    0.]\n",
      " [   0.    0.    0.    0.]\n",
      " [   0.    0.    0.    0.]\n",
      " [   0.    0.    0.    0.]\n",
      " [   0.    0.    0.    0.]\n",
      " [   0.    0.    0.    0.]\n",
      " [   0.    0.    0.    0.]]\n"
     ]
    }
   ],
   "source": [
    "print(agent.qTable)"
   ]
  },
  {
   "cell_type": "code",
   "execution_count": 18,
   "metadata": {
    "scrolled": true
   },
   "outputs": [
    {
     "data": {
      "image/png": "[encoded data removed]",
      "text/plain": [
       "<Figure size 432x288 with 1 Axes>"
      ]
     },
     "metadata": {
      "needs_background": "light"
     },
     "output_type": "display_data"
    }
   ],
   "source": [
    "plt.plot((returns))\n",
    "plt.ylabel('Sum of Rewards in an Episode ')\n",
    "plt.xlabel('Iterations')\n",
    "plt.show()"
   ]
  },
  {
   "cell_type": "code",
   "execution_count": 19,
   "metadata": {},
   "outputs": [
    {
     "name": "stdout",
     "output_type": "stream",
     "text": [
      "The maximum reward value is: 99\n"
     ]
    },
    {
     "data": {
      "image/png": "[encoded data removed]",
      "text/plain": [
       "<Figure size 432x288 with 1 Axes>"
      ]
     },
     "metadata": {
      "needs_background": "light"
     },
     "output_type": "display_data"
    }
   ],
   "source": [
    "print(\"The maximum reward value is: \" + str(max(returns)))\n",
    "plt.hist(max(returns))\n",
    "plt.xlabel('Max reward')\n",
    "plt.ylabel('Reward');\n",
    "plt.show()"
   ]
  },
  {
   "cell_type": "code",
   "execution_count": 20,
   "metadata": {},
   "outputs": [
    {
     "name": "stdout",
     "output_type": "stream",
     "text": [
      "The average reward value is: 96.76666666666667\n"
     ]
    },
    {
     "data": {
      "image/png": "[encoded data removed]",
      "text/plain": [
       "<Figure size 432x288 with 1 Axes>"
      ]
     },
     "metadata": {
      "needs_background": "light"
     },
     "output_type": "display_data"
    }
   ],
   "source": [
    "print(\"The average reward value is: \" + str(mean(returns)))\n",
    "plt.hist(mean(returns))\n",
    "plt.xlabel('Average reward')\n",
    "plt.ylabel('');\n",
    "plt.show()"
   ]
  },
  {
   "cell_type": "code",
   "execution_count": 21,
   "metadata": {
    "scrolled": true
   },
   "outputs": [
    {
     "name": "stdout",
     "output_type": "stream",
     "text": [
      "The minimum reward value is: 95\n"
     ]
    },
    {
     "data": {
      "image/png": "[encoded data removed]",
      "text/plain": [
       "<Figure size 432x288 with 1 Axes>"
      ]
     },
     "metadata": {
      "needs_background": "light"
     },
     "output_type": "display_data"
    }
   ],
   "source": [
    "print(\"The minimum reward value is: \" + str(min(returns)))\n",
    "plt.hist(min(returns))\n",
    "plt.xlabel('Minimum of reward')\n",
    "plt.ylabel('');\n",
    "plt.show()"
   ]
  },
  {
   "cell_type": "code",
   "execution_count": 14,
   "metadata": {},
   "outputs": [],
   "source": [
    "trainedQTable = agent.qTable"
   ]
  },
  {
   "cell_type": "code",
   "execution_count": 15,
   "metadata": {},
   "outputs": [
    {
     "name": "stdout",
     "output_type": "stream",
     "text": [
      "Agent is terminated!\n"
     ]
    }
   ],
   "source": [
    "env = GridWorldEnvironment(envInfo)\n",
    "agent = QLearningAgent(agentInfo)\n",
    "agent.qTable = trainedQTable # we update the agent's q table as trained q table\n",
    "chosenPath = [] # we create a list for saving the path\n",
    "returnOfTestEpisode = 0\n",
    "stt = env.envStart()\n",
    "chosenPath.append(stt)\n",
    "act = agent.agentTest(stt)\n",
    "rew, stt, trm = env.envStep(act)\n",
    "chosenPath.append(stt)\n",
    "returnOfTestEpisode += rew # we increment test episode return by the reward\n",
    "while(True):\n",
    "    act = agent.agentTest(stt)\n",
    "    rew, stt, trm = env.envStep(act)\n",
    "    chosenPath.append(stt) # we append the state to chosenPath\n",
    "    returnOfTestEpisode += rew\n",
    "    if trm:\n",
    "        print(\"Agent is terminated!\")\n",
    "        break"
   ]
  },
  {
   "cell_type": "code",
   "execution_count": 16,
   "metadata": {},
   "outputs": [
    {
     "name": "stdout",
     "output_type": "stream",
     "text": [
      "Test epsiode return: 95\n"
     ]
    }
   ],
   "source": [
    "print(\"Test epsiode return: \" + str(returnOfTestEpisode))"
   ]
  },
  {
   "cell_type": "code",
   "execution_count": 17,
   "metadata": {},
   "outputs": [
    {
     "name": "stdout",
     "output_type": "stream",
     "text": [
      "Learned path:\n",
      "[0, 1, 5, 9, 10, 11, 15]\n"
     ]
    }
   ],
   "source": [
    "print(\"Learned path:\")\n",
    "\n",
    "print(chosenPath)"
   ]
  },
  {
   "cell_type": "code",
   "execution_count": null,
   "metadata": {},
   "outputs": [],
   "source": []
  }
 ],
 "metadata": {
  "kernelspec": {
   "display_name": "Python 3",
   "language": "python",
   "name": "python3"
  },
  "language_info": {
   "codemirror_mode": {
    "name": "ipython",
    "version": 3
   },
   "file_extension": ".py",
   "mimetype": "text/x-python",
   "name": "python",
   "nbconvert_exporter": "python",
   "pygments_lexer": "ipython3",
   "version": "3.8.5"
  }
 },
 "nbformat": 4,
 "nbformat_minor": 4
}
