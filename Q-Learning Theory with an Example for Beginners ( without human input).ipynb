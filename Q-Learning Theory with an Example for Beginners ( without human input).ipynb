{
 "cells": [
  {
   "cell_type": "code",
   "execution_count": 1,
   "metadata": {},
   "outputs": [],
   "source": [
    "import numpy as np # we imported numpy package as np so we will call it np in the future\n",
    "import matplotlib.pyplot as plt # we import matplotlib.pyplot as plt\n",
    "from statistics import mean"
   ]
  },
  {
   "cell_type": "code",
   "execution_count": 2,
   "metadata": {},
   "outputs": [
    {
     "name": "stdout",
     "output_type": "stream",
     "text": [
      "[[0. 0.]\n",
      " [0. 0.]\n",
      " [0. 0.]\n",
      " [0. 0.]\n",
      " [0. 0.]]\n"
     ]
    }
   ],
   "source": [
    "num_States = 5 # we have 5 states in our state space\n",
    "num_Actions = 2 # we have 2 actions in our action space\n",
    "\n",
    "q_Table = np.zeros((num_States, num_Actions)) # we define Q-Table with all zeros in it\n",
    "print(q_Table) # we print our first tiny Q-Table"
   ]
  },
  {
   "cell_type": "code",
   "execution_count": 3,
   "metadata": {},
   "outputs": [],
   "source": [
    "envInfo = [[(0,0), (0,1), (0,2), (0,3), (1,3), (2,3), (2,2), (2,1), (2,0), (3,0)], [(1,0), (1,1), (1,2), (3,1), (3,2), (3,3)]]\n",
    "# envInfo[0] => safe path list\n",
    "# envInfo[1] => cliffs list"
   ]
  },
  {
   "cell_type": "code",
   "execution_count": 4,
   "metadata": {},
   "outputs": [],
   "source": [
    "class GridWorldEnvironment:\n",
    "    def __init__(self, info):\n",
    "        \n",
    "        self.safePath = info[0] # contains tuples\n",
    "        self.cliffs = info[1] # contains tuples\n",
    "        self.startLoc = self.safePath[0] # safe path list's 0th element is start state\n",
    "        self.trmLoc = self.safePath[9] # safe path list's 9th element is finish state\n",
    "        self.rewSttTrm = (None, None, None) # (int, int, bool)\n",
    "    \n",
    "    def getSttNo(self, loc):\n",
    "        \"\"\"\n",
    "        The method that converts current location to a state number. \n",
    "        Returns state number.\n",
    "        \"\"\"\n",
    "        return 4*loc[0]+loc[1]\n",
    "    \n",
    "    def envStart(self):\n",
    "\n",
    "        \"\"\"The method called when the episode starts, it resets the environment.\n",
    "\n",
    "        Returns:\n",
    "        state number.\n",
    "        \"\"\"\n",
    "        reward = 0\n",
    "        # agentLoc is the current location of the agent\n",
    "        self.agentLoc = self.startLoc\n",
    "        # state is state number as an int\n",
    "        state = self.getSttNo(self.agentLoc)\n",
    "        termination = False\n",
    "        self.rewSttTrm = (reward, state, termination)\n",
    "\n",
    "        return self.rewSttTrm[1]\n",
    "    \n",
    "    def envStep(self, action):\n",
    "        \"\"\"The method called with every step taken in the environment and updates the environment.\n",
    "\n",
    "        Args:\n",
    "            action: The action taken by the agent\n",
    "\n",
    "        Returns:\n",
    "            (int, int, bool): a tuple of the reward, state,\n",
    "                and boolean shows that if it's terminal.\n",
    "        \"\"\"\n",
    "        if action == 0: # up         \n",
    "            possibleNextLoc = (self.agentLoc[0] - 1, self.agentLoc[1])\n",
    "            if possibleNextLoc[0] >= 0: # check the agent within grid?\n",
    "                self.agentLoc = possibleNextLoc # if within grid, current location is possible location\n",
    "            else:\n",
    "                self.agentLoc = (1,0) # go to a cliff\n",
    "        elif action == 1: # left\n",
    "            possibleNextLoc = (self.agentLoc[0], self.agentLoc[1] - 1)\n",
    "            if possibleNextLoc[1] >= 0: # check the agent within grid?\n",
    "                self.agentLoc = possibleNextLoc # if within grid, current location is possible location\n",
    "            else:\n",
    "                self.agentLoc = (1,0) # go to a cliff\n",
    "        elif action == 2: # down\n",
    "            possibleNextLoc = (self.agentLoc[0] + 1, self.agentLoc[1])\n",
    "            if possibleNextLoc[0] < 4: # check the agent within grid?\n",
    "                self.agentLoc = possibleNextLoc # if within grid, current location is possible location\n",
    "            else:\n",
    "                self.agentLoc = (1,0) # go to a cliff\n",
    "        elif action == 3: # right\n",
    "            possibleNextLoc = (self.agentLoc[0], self.agentLoc[1] + 1)\n",
    "            if possibleNextLoc[1] < 4: # check the agent within grid?\n",
    "                self.agentLoc = possibleNextLoc # if within grid, current location is possible location\n",
    "            else:\n",
    "                self.agentLoc = (1,0) # go to a cliff\n",
    "\n",
    "        reward = -1 # initiate reward as -1,agent gets a -1 reward for its every step in safe path,so it does not stuck\n",
    "        terminal = False # holds the termination information\n",
    "        \n",
    "        if self.agentLoc == self.trmLoc: # check the terminal is reached?\n",
    "            reward = 100 # give 100 reward if it terminates the episode\n",
    "            terminal = True # bool of termination is true\n",
    "        elif self.agentLoc in self.cliffs: # check fell into cliffs?\n",
    "            reward = -100 # give -100 reward if it falls into the cliffs\n",
    "            terminal = False # bool of termination is true\n",
    "            self.agentLoc = self.startLoc # agent is sent to start state\n",
    "        else:\n",
    "            reward = -1 # default value\n",
    "            terminal = False # default value\n",
    "        \n",
    "        self.rewSttTrm = (reward, self.getSttNo(self.agentLoc), terminal) # update rewSttTrm\n",
    "\n",
    "        return self.rewSttTrm"
   ]
  },
  {
   "cell_type": "code",
   "execution_count": 5,
   "metadata": {},
   "outputs": [],
   "source": [
    "agentInfo = [4, 16, 0.01, 0.1, 1, 0] ###numActions, numStates, epsilon, learningRate, discount, random seed"
   ]
  },
  {
   "cell_type": "code",
   "execution_count": 6,
   "metadata": {},
   "outputs": [],
   "source": [
    "class QLearningAgent:\n",
    "\n",
    "    def __init__(self, info):\n",
    "        \n",
    "        self.numActions = info[0]\n",
    "        self.numStates = info[1]\n",
    "        self.epsilon = info[2]\n",
    "        self.learningRate = info[3]\n",
    "        self.discount = info[4]\n",
    "        self.randGenerator = np.random.RandomState(info[5])\n",
    "\n",
    "        self.qTable = np.zeros((self.numStates, self.numActions)) # The array of action-value estimates.\n",
    "\n",
    "    def agentStart(self, state):\n",
    "        \n",
    "        \"\"\"The method called when the episode starts, it resets the environment.\n",
    "        \n",
    "        Args:\n",
    "            state (int): the state from the\n",
    "                environment's evnStart function.\n",
    "        Returns:\n",
    "            action (int): the first action the agent takes.\n",
    "        \"\"\"\n",
    "        \n",
    "        # Choose action using epsilon greedy.\n",
    "        currentQ = self.qTable[state,:] # corresponding row of qTable\n",
    "        if self.randGenerator.rand() < self.epsilon: # random number generation\n",
    "            action = self.randGenerator.randint(self.numActions) # take an action randomly\n",
    "        else:\n",
    "            action = self.argmax(currentQ) # take an action greedily, the max valued action in currentQ\n",
    "        self.prevState = state # the trick of TDL\n",
    "        self.prevAction = action # the trick of TDL\n",
    "        return action\n",
    "\n",
    "    def agentStep(self, reward, state):\n",
    "        \"\"\"A step taken by the agent.\n",
    "        Args:\n",
    "            reward (float): the reward received for taking the last action taken\n",
    "            state (int): the state from the\n",
    "                environment's step based on where the agent ended up after the\n",
    "                last step.\n",
    "        Returns:\n",
    "            action (int): the action the agent takes.\n",
    "        \"\"\"\n",
    "        \n",
    "        # Choose action using epsilon greedy.\n",
    "        currentQ = self.qTable[state, :] # corresponding row of qTable\n",
    "        if self.randGenerator.rand() < self.epsilon:  # random number generation\n",
    "            action = self.randGenerator.randint(self.numActions) # take an action randomly\n",
    "        else:\n",
    "            action = self.argmax(currentQ) # take an action greedily, the max valued action in currentQ\n",
    "        \n",
    "        self.qTable[self.prevState,self.prevAction] = self.qTable[self.prevState,self.prevAction] + self.learningRate*(reward + self.discount*max(currentQ) - self.qTable[self.prevState,self.prevAction]) # update qTable\n",
    "        \n",
    "        self.prevState = state # the trick of TDL\n",
    "        self.prevAction = action # the trick of TDL\n",
    "        return action\n",
    "\n",
    "\n",
    "    def agentEnd(self, reward):\n",
    "        \"\"\"Run when the agent terminates.\n",
    "        Args:\n",
    "            reward (float): the reward the agent received for entering the\n",
    "                terminal state.\n",
    "        \"\"\"\n",
    "        \n",
    "        self.qTable[self.prevState,self.prevAction] = self.qTable[self.prevState,self.prevAction] + self.learningRate*(reward - self.qTable[self.prevState,self.prevAction])\n",
    "\n",
    "    def argmax(self, qValues):\n",
    "        \"\"\"argmax with random tie-breaking\n",
    "        Args:\n",
    "            qValues (Numpy array): the array of action-values\n",
    "        Returns:\n",
    "            action (int): an action with the highest value\n",
    "        \"\"\"\n",
    "        top = float(\"-inf\") # top as negative infinity\n",
    "        ties = [] # initiate ties\n",
    "\n",
    "        for i in range(len(qValues)):\n",
    "            if qValues[i] > top: # element is greater than top\n",
    "                top = qValues[i] # the element is the new top\n",
    "                ties = [] # ties resets\n",
    "\n",
    "            if qValues[i] == top: # if an element is equal to top\n",
    "                ties.append(i) # we add its index to ties\n",
    "\n",
    "        return self.randGenerator.choice(ties) # return one of ties randomly\n",
    "    \n",
    "    def agentTest(self, state):\n",
    "        \n",
    "        # Choose action greedily by exploiting qTable\n",
    "        currentQ = self.qTable[state,:]\n",
    "        \n",
    "        action = self.argmax(currentQ)\n",
    "        \n",
    "        return action"
   ]
  },
  {
   "cell_type": "code",
   "execution_count": 7,
   "metadata": {},
   "outputs": [],
   "source": [
    "env = GridWorldEnvironment(envInfo) # instance of environment\n",
    "agent = QLearningAgent(agentInfo) # instance of agent\n",
    "returns = [] # a list that we will append return of every episode\n",
    "currentReturn = 0 # return of the current episode, we will increment it by rewards"
   ]
  },
  {
   "cell_type": "code",
   "execution_count": 8,
   "metadata": {},
   "outputs": [
    {
     "name": "stdout",
     "output_type": "stream",
     "text": [
      "Iteration Number: 0\n",
      "Agent is terminated!\n",
      "Iteration Number: 1\n",
      "Agent is terminated!\n",
      "Iteration Number: 2\n",
      "Agent is terminated!\n",
      "Iteration Number: 3\n",
      "Agent is terminated!\n",
      "Iteration Number: 4\n",
      "Agent is terminated!\n",
      "Iteration Number: 5\n",
      "Agent is terminated!\n",
      "Iteration Number: 6\n",
      "Agent is terminated!\n",
      "Iteration Number: 7\n",
      "Agent is terminated!\n",
      "Iteration Number: 8\n",
      "Agent is terminated!\n",
      "Iteration Number: 9\n",
      "Agent is terminated!\n",
      "Iteration Number: 10\n",
      "Agent is terminated!\n",
      "Iteration Number: 11\n",
      "Agent is terminated!\n",
      "Iteration Number: 12\n",
      "Agent is terminated!\n",
      "Iteration Number: 13\n",
      "Agent is terminated!\n",
      "Iteration Number: 14\n",
      "Agent is terminated!\n",
      "Iteration Number: 15\n",
      "Agent is terminated!\n",
      "Iteration Number: 16\n",
      "Agent is terminated!\n",
      "Iteration Number: 17\n",
      "Agent is terminated!\n",
      "Iteration Number: 18\n",
      "Agent is terminated!\n",
      "Iteration Number: 19\n",
      "Agent is terminated!\n",
      "Iteration Number: 20\n",
      "Agent is terminated!\n",
      "Iteration Number: 21\n",
      "Agent is terminated!\n",
      "Iteration Number: 22\n",
      "Agent is terminated!\n",
      "Iteration Number: 23\n",
      "Agent is terminated!\n",
      "Iteration Number: 24\n",
      "Agent is terminated!\n",
      "Iteration Number: 25\n",
      "Agent is terminated!\n",
      "Iteration Number: 26\n",
      "Agent is terminated!\n",
      "Iteration Number: 27\n",
      "Agent is terminated!\n",
      "Iteration Number: 28\n",
      "Agent is terminated!\n",
      "Iteration Number: 29\n",
      "Agent is terminated!\n",
      "[-1964, 78, 80, 84, 82, 86, 90, 84, 92, 86, 88, 90, 88, 90, 88, 92, 92, 90, 92, 92, 92, 90, 92, 92, 92, 92, 92, 92, -118, 92]\n"
     ]
    }
   ],
   "source": [
    "for i in range(30):\n",
    "    print(\"Iteration Number: \" + str(i))\n",
    "    currentReturn = 0\n",
    "    stt = env.envStart() \n",
    "    act = agent.agentStart(stt) # choose action\n",
    "    rew, stt, trm = env.envStep(act)\n",
    "    currentReturn += rew\n",
    "    while(True):\n",
    "        act = agent.agentStep(rew, stt) # update q table and choose action\n",
    "        rew, stt, trm = env.envStep(act)\n",
    "        currentReturn += rew\n",
    "        if trm: # agent is terminated\n",
    "            agent.agentEnd(rew) # make a final update to q table\n",
    "            print(\"Agent is terminated!\")\n",
    "            returns.append(currentReturn) # save the return of the episode\n",
    "            break\n",
    "print(returns)"
   ]
  },
  {
   "cell_type": "code",
   "execution_count": 9,
   "metadata": {},
   "outputs": [
    {
     "name": "stdout",
     "output_type": "stream",
     "text": [
      "[[-19.         -10.         -19.01        -4.39972588]\n",
      " [-10.019       -3.71482728 -10.0271      -3.10843021]\n",
      " [-10.03539     -2.92784479 -10.06468304  -0.32687236]\n",
      " [-10.07868346  -2.30651771   5.51448069 -10.0504659 ]\n",
      " [  0.           0.           0.           0.        ]\n",
      " [  0.           0.           0.           0.        ]\n",
      " [  0.           0.           0.           0.        ]\n",
      " [ -1.60355784 -10.11260259  16.28859471 -19.52479871]\n",
      " [  0.           0.          95.76088417  -0.1       ]\n",
      " [-10.16108106  80.66865012 -10.18908632  -0.2388552 ]\n",
      " [-10.09978704  57.06177068 -19.59956581  -0.50967267]\n",
      " [ -1.04615008  34.66768307 -10.13266874 -10.14692177]\n",
      " [  0.           0.           0.           0.        ]\n",
      " [  0.           0.           0.           0.        ]\n",
      " [  0.           0.           0.           0.        ]\n",
      " [  0.           0.           0.           0.        ]]\n"
     ]
    }
   ],
   "source": [
    "print(agent.qTable)"
   ]
  },
  {
   "cell_type": "code",
   "execution_count": 10,
   "metadata": {},
   "outputs": [
    {
     "data": {
      "image/png": "[encoded data removed]",
      "text/plain": [
       "<Figure size 432x288 with 1 Axes>"
      ]
     },
     "metadata": {
      "needs_background": "light"
     },
     "output_type": "display_data"
    }
   ],
   "source": [
    "plt.plot(returns)\n",
    "plt.ylabel('Sum of Rewards in an Episode ')\n",
    "plt.xlabel('Iterations')\n",
    "plt.show()"
   ]
  },
  {
   "cell_type": "code",
   "execution_count": 11,
   "metadata": {},
   "outputs": [
    {
     "name": "stdout",
     "output_type": "stream",
     "text": [
      "The maximum reward value is: 92\n"
     ]
    },
    {
     "data": {
      "image/png": "[encoded data removed]",
      "text/plain": [
       "<Figure size 432x288 with 1 Axes>"
      ]
     },
     "metadata": {
      "needs_background": "light"
     },
     "output_type": "display_data"
    }
   ],
   "source": [
    "print(\"The maximum reward value is: \" + str(max(returns)))\n",
    "plt.hist(max(returns))\n",
    "plt.xlabel('Max reward')\n",
    "plt.ylabel('Reward');\n",
    "plt.show()"
   ]
  },
  {
   "cell_type": "code",
   "execution_count": 12,
   "metadata": {},
   "outputs": [
    {
     "name": "stdout",
     "output_type": "stream",
     "text": [
      "The average reward value is: 13.6\n"
     ]
    },
    {
     "data": {
      "image/png": "[encoded data removed]",
      "text/plain": [
       "<Figure size 432x288 with 1 Axes>"
      ]
     },
     "metadata": {
      "needs_background": "light"
     },
     "output_type": "display_data"
    }
   ],
   "source": [
    "print(\"The average reward value is: \" + str(mean(returns)))\n",
    "plt.hist(mean(returns))\n",
    "plt.xlabel('Average reward')\n",
    "plt.ylabel('');\n",
    "plt.show()"
   ]
  },
  {
   "cell_type": "code",
   "execution_count": 13,
   "metadata": {},
   "outputs": [
    {
     "name": "stdout",
     "output_type": "stream",
     "text": [
      "The minimum reward value is: -1964\n"
     ]
    },
    {
     "data": {
      "image/png": "[encoded data removed]",
      "text/plain": [
       "<Figure size 432x288 with 1 Axes>"
      ]
     },
     "metadata": {
      "needs_background": "light"
     },
     "output_type": "display_data"
    }
   ],
   "source": [
    "print(\"The minimum reward value is: \" + str(min(returns)))\n",
    "plt.hist(min(returns))\n",
    "plt.xlabel('Minimum of reward')\n",
    "plt.ylabel('');\n",
    "plt.show()"
   ]
  },
  {
   "cell_type": "code",
   "execution_count": 14,
   "metadata": {},
   "outputs": [],
   "source": [
    "trainedQTable = agent.qTable"
   ]
  },
  {
   "cell_type": "code",
   "execution_count": 15,
   "metadata": {},
   "outputs": [
    {
     "name": "stdout",
     "output_type": "stream",
     "text": [
      "Agent is terminated!\n"
     ]
    }
   ],
   "source": [
    "env = GridWorldEnvironment(envInfo)\n",
    "agent = QLearningAgent(agentInfo)\n",
    "agent.qTable = trainedQTable # we update the agent's q table as trained q table\n",
    "chosenPath = [] # we create a list for saving the path\n",
    "returnOfTestEpisode = 0\n",
    "stt = env.envStart()\n",
    "chosenPath.append(stt)\n",
    "act = agent.agentTest(stt)\n",
    "rew, stt, trm = env.envStep(act)\n",
    "chosenPath.append(stt)\n",
    "returnOfTestEpisode += rew # we increment test episode return by the reward\n",
    "while(True):\n",
    "    act = agent.agentTest(stt)\n",
    "    rew, stt, trm = env.envStep(act)\n",
    "    chosenPath.append(stt) # we append the state to chosenPath\n",
    "    returnOfTestEpisode += rew\n",
    "    if trm:\n",
    "        print(\"Agent is terminated!\")\n",
    "        break"
   ]
  },
  {
   "cell_type": "code",
   "execution_count": 16,
   "metadata": {},
   "outputs": [
    {
     "name": "stdout",
     "output_type": "stream",
     "text": [
      "Test epsiode return: 92\n"
     ]
    }
   ],
   "source": [
    "print(\"Test epsiode return: \" + str(returnOfTestEpisode))"
   ]
  },
  {
   "cell_type": "code",
   "execution_count": 17,
   "metadata": {},
   "outputs": [
    {
     "name": "stdout",
     "output_type": "stream",
     "text": [
      "Learned path:\n",
      "[0, 1, 2, 3, 7, 11, 10, 9, 8, 12]\n"
     ]
    }
   ],
   "source": [
    "print(\"Learned path:\")\n",
    "\n",
    "print(chosenPath)"
   ]
  },
  {
   "cell_type": "code",
   "execution_count": null,
   "metadata": {},
   "outputs": [],
   "source": []
  },
  {
   "cell_type": "code",
   "execution_count": null,
   "metadata": {},
   "outputs": [],
   "source": []
  }
 ],
 "metadata": {
  "kernelspec": {
   "display_name": "Python 3",
   "language": "python",
   "name": "python3"
  },
  "language_info": {
   "codemirror_mode": {
    "name": "ipython",
    "version": 3
   },
   "file_extension": ".py",
   "mimetype": "text/x-python",
   "name": "python",
   "nbconvert_exporter": "python",
   "pygments_lexer": "ipython3",
   "version": "3.8.5"
  }
 },
 "nbformat": 4,
 "nbformat_minor": 4
}
